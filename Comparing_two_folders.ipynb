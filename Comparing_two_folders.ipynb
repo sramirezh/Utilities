{
 "cells": [
  {
   "cell_type": "code",
   "execution_count": 225,
   "id": "a0d420c8-1e78-4a8f-aa28-ed2a4a90c180",
   "metadata": {},
   "outputs": [],
   "source": [
    "import os\n",
    "import glob\n",
    "import shutil\n",
    "import re\n",
    "from pathlib import Path"
   ]
  },
  {
   "cell_type": "markdown",
   "id": "15990c44-13ee-4a4c-8c11-0e0fc47c9484",
   "metadata": {
    "tags": []
   },
   "source": [
    "I will copy all the files that are in root_1 that are not in root_2 one by one"
   ]
  },
  {
   "cell_type": "code",
   "execution_count": 226,
   "id": "ee583944-25b1-4f9e-93f8-618012a189e1",
   "metadata": {},
   "outputs": [
    {
     "data": {
      "text/plain": [
       "'EnterpriseTECHteam6/1.Projectinitiationdocument/Gantt.gdoc'"
      ]
     },
     "execution_count": 226,
     "metadata": {},
     "output_type": "execute_result"
    }
   ],
   "source": [
    "new_file_name"
   ]
  },
  {
   "cell_type": "code",
   "execution_count": 231,
   "id": "5a34ef33-71a6-4b0b-bda1-ce15c17eece9",
   "metadata": {
    "tags": []
   },
   "outputs": [
    {
     "name": "stdout",
     "output_type": "stream",
     "text": [
      "\n",
      "\n",
      "Working in folder Joven Investigador\n",
      "Found 0 new files\n",
      "(After)Found 0 new files\n",
      "\n",
      "\n",
      "Working in folder Tesis Aeronautica\n",
      "Found 0 new files\n",
      "(After)Found 0 new files\n",
      "\n",
      "\n",
      "Working in folder Enterprise_Tech\n",
      "Found 1 new files\n",
      "(After)Found 0 new files\n",
      "\n",
      "\n",
      "Working in folder Consultoria\n",
      "Found 0 new files\n",
      "(After)Found 0 new files\n",
      "\n",
      "\n",
      "Working in folder Microsoft Teams Chat Files\n",
      "Found 0 new files\n",
      "(After)Found 0 new files\n",
      "\n",
      "\n",
      "Working in folder scans\n",
      "Found 0 new files\n",
      "(After)Found 0 new files\n",
      "\n",
      "\n",
      "Working in folder Trabajos\n",
      "Found 0 new files\n",
      "(After)Found 0 new files\n",
      "\n",
      "\n",
      "Working in folder Fotos\n",
      "Found 0 new files\n",
      "(After)Found 0 new files\n",
      "\n",
      "\n",
      "Working in folder Humor\n",
      "Found 0 new files\n",
      "(After)Found 0 new files\n",
      "\n",
      "\n",
      "Working in folder Programacion_Viejo\n",
      "Found 0 new files\n",
      "(After)Found 0 new files\n",
      "\n",
      "\n",
      "Working in folder Becas\n",
      "Found 0 new files\n",
      "(After)Found 0 new files\n",
      "\n",
      "\n",
      "Working in folder Polymer_Diffusio_phoresis\n",
      "Found 0 new files\n",
      "(After)Found 0 new files\n",
      "\n",
      "\n",
      "Working in folder Atosim\n",
      "Found 0 new files\n",
      "(After)Found 0 new files\n",
      "\n",
      "\n",
      "Working in folder Cursos Viejos\n",
      "Found 0 new files\n",
      "(After)Found 0 new files\n",
      "\n",
      "\n",
      "Working in folder celular\n",
      "Found 0 new files\n",
      "(After)Found 0 new files\n",
      "\n",
      "\n",
      "Working in folder Tesis_fisica\n",
      "Found 0 new files\n",
      "(After)Found 0 new files\n"
     ]
    }
   ],
   "source": [
    "trouble_files = []\n",
    "\n",
    "\n",
    "root_1 = 'OLD_Google_Drive_DELETE WHEN READY'\n",
    "root_2 = 'My Drive (simlord@gmail.com)'\n",
    "\n",
    "folders = glob.glob(f'{root_1}/*')\n",
    "# Not including files in the root\n",
    "folders = [folder for folder in folders if '.' not in folder.split('/')[-1]]\n",
    "# Getting folder names\"\n",
    "folders = [folder.split('/')[-1] for folder in folders]\n",
    "\n",
    "for folder in folders:\n",
    "    # Exclusions by hand\n",
    "    if \"Icon\"  in folder or \"Simlord\" in folder:\n",
    "        continue\n",
    "    print(f\"\\n\\nWorking in folder {folder}\")\n",
    "    dir_1 = f'{root_1}/{folder}'\n",
    "    dir_2 = f'{root_2}/{folder}'\n",
    "    os.makedirs(f'{dir_2}/{folder}', exist_ok = True)\n",
    "    \n",
    "    # Getting all the files\n",
    "    list_1 = glob.glob(f'{dir_1}/**', recursive = True)\n",
    "    list_2 = glob.glob(f'{dir_2}/**', recursive = True)\n",
    "    \n",
    "    # Removing the root and dir\n",
    "    list_1 = ['/'.join(file.split('/')[2:]) for file in list_1]\n",
    "    list_2 = ['/'.join(file.split('/')[2:]) for file in list_2]\n",
    "    \n",
    "    files_in_1_not_in_2 = [file for file in list_1 if file not in list_2] \n",
    "    \n",
    "    # Focusing only on files\n",
    "    files_in_1_not_in_2 = [ file for file in files_in_1_not_in_2 if os.path.isfile(os.path.normpath(f'{dir_1}/{file}'))]\n",
    "    \n",
    "    \n",
    "    print(f'Found {len(files_in_1_not_in_2)} new files')\n",
    "    \n",
    "    # Copying the files\n",
    "    for file in files_in_1_not_in_2:\n",
    "        \n",
    "        \n",
    "        # Dealing with special characters and limiting the file name length\n",
    "        new_file_name = re.sub('[^a-zA-Z0-9 \\n\\. /_]', '', file)[:100]\n",
    "        shutil.move(f'{dir_1}/{file}', f'{dir_1}/{new_file_name}')\n",
    "    \n",
    "#         # If it is a file\n",
    "#         if os.path.isfile(os.path.normpath(f'{dir_1}/{file}')):\n",
    "\n",
    "\n",
    "#             print(f\"Working on file: {file}\")\n",
    "\n",
    "\n",
    "        file = new_file_name\n",
    "        dest_path = '/'.join(file.split('/')[:-1])\n",
    "#             print(dest_path)\n",
    "        \n",
    "        \n",
    "        try:\n",
    "            shutil.copy(f'{dir_1}/{file}', f'{dir_2}/{file}')\n",
    "        except IOError as io_err:\n",
    "            os.makedirs(f'{dir_2}/{dest_path}', exist_ok = True)\n",
    "            shutil.copy(f'{dir_1}/{file}', f'{dir_2}/{file}')\n",
    "            \n",
    "            \n",
    "    # Checking how many are there left\n",
    "    # Getting all the files\n",
    "    list_1 = glob.glob(f'{dir_1}/**', recursive = True)\n",
    "    list_2 = glob.glob(f'{dir_2}/**', recursive = True)\n",
    "    \n",
    "    # Removing the root and dir\n",
    "    list_1 = ['/'.join(file.split('/')[2:]) for file in list_1]\n",
    "    list_2 = ['/'.join(file.split('/')[2:]) for file in list_2]\n",
    "    \n",
    "    files_in_1_not_in_2 = [file for file in list_1 if file not in list_2] \n",
    "    files_in_1_not_in_2 = [ file for file in files_in_1_not_in_2 if os.path.isfile(os.path.normpath(f'{dir_1}/{file}'))]\n",
    "    print(f'(After)Found {len(files_in_1_not_in_2)} new files')\n",
    "    \n",
    "    trouble_files.extend(files_in_1_not_in_2)"
   ]
  },
  {
   "cell_type": "markdown",
   "id": "4559f80f-46ae-4dc5-8a4a-64385350b394",
   "metadata": {},
   "source": [
    "# Focusing on trouble files"
   ]
  },
  {
   "cell_type": "code",
   "execution_count": 229,
   "id": "6ccf4543-4a79-4a30-bf10-e9f3ec498279",
   "metadata": {},
   "outputs": [
    {
     "data": {
      "text/plain": [
       "'EnterpriseTECH_team_6/1.Project_initiation_document/Gantt.gdoc'"
      ]
     },
     "execution_count": 229,
     "metadata": {},
     "output_type": "execute_result"
    }
   ],
   "source": [
    "file"
   ]
  },
  {
   "cell_type": "code",
   "execution_count": 230,
   "id": "1442d063-c7a0-4876-b8f2-6bbfa73fea40",
   "metadata": {},
   "outputs": [
    {
     "data": {
      "text/plain": [
       "'EnterpriseTECHteam6/1.Projectinitiationdocument/Gantt.gdoc'"
      ]
     },
     "execution_count": 230,
     "metadata": {},
     "output_type": "execute_result"
    }
   ],
   "source": [
    "new_file_name"
   ]
  },
  {
   "cell_type": "code",
   "execution_count": 208,
   "id": "c4c9a600-e5ed-4a8d-be3e-8773df6f51e2",
   "metadata": {},
   "outputs": [],
   "source": [
    "import re\n",
    "my_str = \"hey th~!ere\"\n",
    "my_new_string = re.sub('[^a-zA-Z0-9 \\n\\.]', '', my_str)"
   ]
  },
  {
   "cell_type": "code",
   "execution_count": 209,
   "id": "3a54d531-c969-47c8-894e-c3669fa97a7b",
   "metadata": {},
   "outputs": [
    {
     "data": {
      "text/plain": [
       "['Vueltas/Tesis/Bibliografía.docx',\n",
       " 'Vueltas/Tesis/Universidad de Antioquia _ Constancia de matrícula.pdf',\n",
       " 'Vueltas/Tesis/Universidad de Antioquia _ Calendario académico.pdf',\n",
       " 'Presentacion/Estudio Teórico de las Propiedades Estructurales del compuesto.pptx',\n",
       " 'Lecturas/Otero-de-la-Roza, Luaña - 2011 - Gibbs2 A new version of the quasi-harmonic model code. I. Robust.pdf',\n",
       " 'Lecturas/Otero-de-la-Roza, Abbasi-Pérez, Luaña - 2011 - Gibbs2 A new version of the quasiharmonic model co.pdf',\n",
       " 'Lecturas/Otero-de-la-Roza, Luaña - 2011 - Equations of state in solids Fitting theoretical data, possibly .pdf',\n",
       " 'Lecturas/Estudio teorico de las propiedades elasticas de los minerales Cu 3 TMSe 4 ( TM = V , Nb , Ta ) por medio de calculos atomısticos de - Ruiz, Osorio-Guillén.pdf',\n",
       " 'Metallic Glasses/Structural and dynamical properties of the Cu46Zr54 alloy in crystalline, amorphous and liquid state A molecular dynamicstudy - Valencia-Balvín et al.pdf',\n",
       " 'Metallic Glasses/Journal of Magnetism and Magnetic Materials Probing local magnetic cluster development in ( CuZr ) 93 À x Al 7 Gd x bulk metallic glasses by 27 Al NMR - Sandor et al.pdf']"
      ]
     },
     "execution_count": 209,
     "metadata": {},
     "output_type": "execute_result"
    }
   ],
   "source": [
    "files_in_1_not_in_2\n"
   ]
  },
  {
   "cell_type": "code",
   "execution_count": 212,
   "id": "e235f22b-9fbc-4e36-b483-09edab5496b5",
   "metadata": {},
   "outputs": [
    {
     "data": {
      "text/plain": [
       "['Lecturas/Otero-de-la-Roza, Luaña - 2011 - Gibbs2 A new version of the quasi-harmonic model code. I. Robust.pdf',\n",
       " 'Lecturas/Otero-de-la-Roza, Abbasi-Pérez, Luaña - 2011 - Gibbs2 A new version of the quasiharmonic model co.pdf',\n",
       " 'Lecturas/Otero-de-la-Roza, Luaña - 2011 - Equations of state in solids Fitting theoretical data, possibly .pdf']"
      ]
     },
     "execution_count": 212,
     "metadata": {},
     "output_type": "execute_result"
    }
   ],
   "source": [
    "[file for file in list_1 if 'Otero' in file]"
   ]
  },
  {
   "cell_type": "code",
   "execution_count": 213,
   "id": "8763ca3e-f925-408b-b3fb-d6967a1888f6",
   "metadata": {},
   "outputs": [
    {
     "data": {
      "text/plain": [
       "['Lecturas/Otero-de-la-Roza, Luaña - 2011 - Gibbs2 A new version of the quasi-harmonic model code. I. Robust.pdf',\n",
       " 'Lecturas/Otero-de-la-Roza, Abbasi-Pérez, Luaña - 2011 - Gibbs2 A new version of the quasiharmonic model co.pdf',\n",
       " 'Lecturas/Otero-de-la-Roza, Luaña - 2011 - Equations of state in solids Fitting theoretical data, possibly .pdf']"
      ]
     },
     "execution_count": 213,
     "metadata": {},
     "output_type": "execute_result"
    }
   ],
   "source": [
    "[file for file in list_2 if 'Otero' in file]"
   ]
  },
  {
   "cell_type": "code",
   "execution_count": 214,
   "id": "a8aef4a7-782d-40f3-bfb1-2ed38e7f7736",
   "metadata": {},
   "outputs": [
    {
     "data": {
      "text/plain": [
       "False"
      ]
     },
     "execution_count": 214,
     "metadata": {},
     "output_type": "execute_result"
    }
   ],
   "source": [
    "'Lecturas/Otero-de-la-Roza, Luaña - 2011 - Gibbs2 A new version of the quasi-harmonic model code. I. Robust.pdf' == 'Lecturas/Otero-de-la-Roza, Luaña - 2011 - Gibbs2 A new version of the quasi-harmonic model code. I. Robust.pdf'"
   ]
  },
  {
   "cell_type": "code",
   "execution_count": 216,
   "id": "19745e78-0a7c-48e3-bdb9-df561cbe82fb",
   "metadata": {},
   "outputs": [],
   "source": [
    "string_1 = 'Lecturas/Otero-de-la-Roza, Luaña - 2011 - Gibbs2 A new version of the quasi-harmonic model code. I. Robust.pdf'\n",
    "string_2 = 'Lecturas/Otero-de-la-Roza, Luaña - 2011 - Gibbs2 A new version of the quasi-harmonic model code. I. Robust.pdf'"
   ]
  },
  {
   "cell_type": "code",
   "execution_count": 217,
   "id": "163930ed-2497-48a5-949a-814c11977cff",
   "metadata": {},
   "outputs": [
    {
     "data": {
      "text/plain": [
       "False"
      ]
     },
     "execution_count": 217,
     "metadata": {},
     "output_type": "execute_result"
    }
   ],
   "source": [
    "string_1 == string_2"
   ]
  },
  {
   "cell_type": "code",
   "execution_count": null,
   "id": "362ac184-154d-4d80-89d5-7e1024af17b6",
   "metadata": {},
   "outputs": [],
   "source": []
  }
 ],
 "metadata": {
  "kernelspec": {
   "display_name": "Python 3 (ipykernel)",
   "language": "python",
   "name": "python3"
  },
  "language_info": {
   "codemirror_mode": {
    "name": "ipython",
    "version": 3
   },
   "file_extension": ".py",
   "mimetype": "text/x-python",
   "name": "python",
   "nbconvert_exporter": "python",
   "pygments_lexer": "ipython3",
   "version": "3.9.7"
  }
 },
 "nbformat": 4,
 "nbformat_minor": 5
}
